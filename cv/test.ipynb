{
 "cells": [
  {
   "cell_type": "code",
   "execution_count": 473,
   "metadata": {},
   "outputs": [],
   "source": [
    "import numpy as np\n",
    "import pandas as pd\n",
    "import matplotlib.pyplot as plt\n",
    "from sklearn.datasets import load_digits\n",
    "from sklearn.model_selection import train_test_split\n",
    "from sklearn.utils import resample"
   ]
  },
  {
   "cell_type": "code",
   "execution_count": 474,
   "metadata": {},
   "outputs": [],
   "source": [
    "mnist = load_digits(as_frame = True)\n"
   ]
  },
  {
   "cell_type": "code",
   "execution_count": 475,
   "metadata": {},
   "outputs": [],
   "source": [
    "X = mnist.data\n",
    "y = mnist.target"
   ]
  },
  {
   "cell_type": "code",
   "execution_count": 476,
   "metadata": {},
   "outputs": [
    {
     "data": {
      "text/plain": [
       "(1797, 64)"
      ]
     },
     "execution_count": 476,
     "metadata": {},
     "output_type": "execute_result"
    }
   ],
   "source": [
    "X.shape"
   ]
  },
  {
   "cell_type": "code",
   "execution_count": 477,
   "metadata": {},
   "outputs": [
    {
     "data": {
      "text/plain": [
       "(1797,)"
      ]
     },
     "execution_count": 477,
     "metadata": {},
     "output_type": "execute_result"
    }
   ],
   "source": [
    "y.shape"
   ]
  },
  {
   "cell_type": "code",
   "execution_count": 478,
   "metadata": {},
   "outputs": [
    {
     "name": "stdout",
     "output_type": "stream",
     "text": [
      "      pixel_0_0  pixel_0_1  pixel_0_2  pixel_0_3  pixel_0_4  pixel_0_5  \\\n",
      "0           0.0        0.0        5.0       13.0        9.0        1.0   \n",
      "1           0.0        0.0        0.0       12.0       13.0        5.0   \n",
      "2           0.0        0.0        0.0        4.0       15.0       12.0   \n",
      "3           0.0        0.0        7.0       15.0       13.0        1.0   \n",
      "4           0.0        0.0        0.0        1.0       11.0        0.0   \n",
      "...         ...        ...        ...        ...        ...        ...   \n",
      "1792        0.0        0.0        4.0       10.0       13.0        6.0   \n",
      "1793        0.0        0.0        6.0       16.0       13.0       11.0   \n",
      "1794        0.0        0.0        1.0       11.0       15.0        1.0   \n",
      "1795        0.0        0.0        2.0       10.0        7.0        0.0   \n",
      "1796        0.0        0.0       10.0       14.0        8.0        1.0   \n",
      "\n",
      "      pixel_0_6  pixel_0_7  pixel_1_0  pixel_1_1  ...  pixel_6_7  pixel_7_0  \\\n",
      "0           0.0        0.0        0.0        0.0  ...        0.0        0.0   \n",
      "1           0.0        0.0        0.0        0.0  ...        0.0        0.0   \n",
      "2           0.0        0.0        0.0        0.0  ...        0.0        0.0   \n",
      "3           0.0        0.0        0.0        8.0  ...        0.0        0.0   \n",
      "4           0.0        0.0        0.0        0.0  ...        0.0        0.0   \n",
      "...         ...        ...        ...        ...  ...        ...        ...   \n",
      "1792        0.0        0.0        0.0        1.0  ...        0.0        0.0   \n",
      "1793        1.0        0.0        0.0        0.0  ...        0.0        0.0   \n",
      "1794        0.0        0.0        0.0        0.0  ...        0.0        0.0   \n",
      "1795        0.0        0.0        0.0        0.0  ...        0.0        0.0   \n",
      "1796        0.0        0.0        0.0        2.0  ...        0.0        0.0   \n",
      "\n",
      "      pixel_7_1  pixel_7_2  pixel_7_3  pixel_7_4  pixel_7_5  pixel_7_6  \\\n",
      "0           0.0        6.0       13.0       10.0        0.0        0.0   \n",
      "1           0.0        0.0       11.0       16.0       10.0        0.0   \n",
      "2           0.0        0.0        3.0       11.0       16.0        9.0   \n",
      "3           0.0        7.0       13.0       13.0        9.0        0.0   \n",
      "4           0.0        0.0        2.0       16.0        4.0        0.0   \n",
      "...         ...        ...        ...        ...        ...        ...   \n",
      "1792        0.0        2.0       14.0       15.0        9.0        0.0   \n",
      "1793        0.0        6.0       16.0       14.0        6.0        0.0   \n",
      "1794        0.0        2.0        9.0       13.0        6.0        0.0   \n",
      "1795        0.0        5.0       12.0       16.0       12.0        0.0   \n",
      "1796        1.0        8.0       12.0       14.0       12.0        1.0   \n",
      "\n",
      "      pixel_7_7  species  \n",
      "0           0.0        0  \n",
      "1           0.0        1  \n",
      "2           0.0        2  \n",
      "3           0.0        3  \n",
      "4           0.0        4  \n",
      "...         ...      ...  \n",
      "1792        0.0        9  \n",
      "1793        0.0        0  \n",
      "1794        0.0        8  \n",
      "1795        0.0        9  \n",
      "1796        0.0        8  \n",
      "\n",
      "[1797 rows x 65 columns]\n",
      "原始資料集類別數量：\n",
      "species\n",
      "3    183\n",
      "1    182\n",
      "5    182\n",
      "4    181\n",
      "6    181\n",
      "9    180\n",
      "7    179\n",
      "0    178\n",
      "2    177\n",
      "8    174\n",
      "Name: count, dtype: int64\n"
     ]
    }
   ],
   "source": [
    "# 將資料集轉為DataFrame以方便處理\n",
    "df = pd.DataFrame(X, columns=mnist.feature_names)\n",
    "df['species'] = y\n",
    "print(df)\n",
    "# 檢查資料集是否平衡\n",
    "print(\"原始資料集類別數量：\")\n",
    "print(df['species'].value_counts())"
   ]
  },
  {
   "cell_type": "code",
   "execution_count": 479,
   "metadata": {},
   "outputs": [
    {
     "data": {
      "text/plain": [
       "(1797,)"
      ]
     },
     "execution_count": 479,
     "metadata": {},
     "output_type": "execute_result"
    }
   ],
   "source": [
    "y.shape"
   ]
  },
  {
   "cell_type": "code",
   "execution_count": 480,
   "metadata": {},
   "outputs": [
    {
     "data": {
      "text/plain": [
       "(1797, 65)"
      ]
     },
     "execution_count": 480,
     "metadata": {},
     "output_type": "execute_result"
    }
   ],
   "source": [
    "df.shape"
   ]
  },
  {
   "cell_type": "code",
   "execution_count": 481,
   "metadata": {},
   "outputs": [
    {
     "name": "stdout",
     "output_type": "stream",
     "text": [
      "<class 'pandas.core.frame.DataFrame'>\n",
      "RangeIndex: 1797 entries, 0 to 1796\n",
      "Data columns (total 65 columns):\n",
      " #   Column     Non-Null Count  Dtype  \n",
      "---  ------     --------------  -----  \n",
      " 0   pixel_0_0  1797 non-null   float64\n",
      " 1   pixel_0_1  1797 non-null   float64\n",
      " 2   pixel_0_2  1797 non-null   float64\n",
      " 3   pixel_0_3  1797 non-null   float64\n",
      " 4   pixel_0_4  1797 non-null   float64\n",
      " 5   pixel_0_5  1797 non-null   float64\n",
      " 6   pixel_0_6  1797 non-null   float64\n",
      " 7   pixel_0_7  1797 non-null   float64\n",
      " 8   pixel_1_0  1797 non-null   float64\n",
      " 9   pixel_1_1  1797 non-null   float64\n",
      " 10  pixel_1_2  1797 non-null   float64\n",
      " 11  pixel_1_3  1797 non-null   float64\n",
      " 12  pixel_1_4  1797 non-null   float64\n",
      " 13  pixel_1_5  1797 non-null   float64\n",
      " 14  pixel_1_6  1797 non-null   float64\n",
      " 15  pixel_1_7  1797 non-null   float64\n",
      " 16  pixel_2_0  1797 non-null   float64\n",
      " 17  pixel_2_1  1797 non-null   float64\n",
      " 18  pixel_2_2  1797 non-null   float64\n",
      " 19  pixel_2_3  1797 non-null   float64\n",
      " 20  pixel_2_4  1797 non-null   float64\n",
      " 21  pixel_2_5  1797 non-null   float64\n",
      " 22  pixel_2_6  1797 non-null   float64\n",
      " 23  pixel_2_7  1797 non-null   float64\n",
      " 24  pixel_3_0  1797 non-null   float64\n",
      " 25  pixel_3_1  1797 non-null   float64\n",
      " 26  pixel_3_2  1797 non-null   float64\n",
      " 27  pixel_3_3  1797 non-null   float64\n",
      " 28  pixel_3_4  1797 non-null   float64\n",
      " 29  pixel_3_5  1797 non-null   float64\n",
      " 30  pixel_3_6  1797 non-null   float64\n",
      " 31  pixel_3_7  1797 non-null   float64\n",
      " 32  pixel_4_0  1797 non-null   float64\n",
      " 33  pixel_4_1  1797 non-null   float64\n",
      " 34  pixel_4_2  1797 non-null   float64\n",
      " 35  pixel_4_3  1797 non-null   float64\n",
      " 36  pixel_4_4  1797 non-null   float64\n",
      " 37  pixel_4_5  1797 non-null   float64\n",
      " 38  pixel_4_6  1797 non-null   float64\n",
      " 39  pixel_4_7  1797 non-null   float64\n",
      " 40  pixel_5_0  1797 non-null   float64\n",
      " 41  pixel_5_1  1797 non-null   float64\n",
      " 42  pixel_5_2  1797 non-null   float64\n",
      " 43  pixel_5_3  1797 non-null   float64\n",
      " 44  pixel_5_4  1797 non-null   float64\n",
      " 45  pixel_5_5  1797 non-null   float64\n",
      " 46  pixel_5_6  1797 non-null   float64\n",
      " 47  pixel_5_7  1797 non-null   float64\n",
      " 48  pixel_6_0  1797 non-null   float64\n",
      " 49  pixel_6_1  1797 non-null   float64\n",
      " 50  pixel_6_2  1797 non-null   float64\n",
      " 51  pixel_6_3  1797 non-null   float64\n",
      " 52  pixel_6_4  1797 non-null   float64\n",
      " 53  pixel_6_5  1797 non-null   float64\n",
      " 54  pixel_6_6  1797 non-null   float64\n",
      " 55  pixel_6_7  1797 non-null   float64\n",
      " 56  pixel_7_0  1797 non-null   float64\n",
      " 57  pixel_7_1  1797 non-null   float64\n",
      " 58  pixel_7_2  1797 non-null   float64\n",
      " 59  pixel_7_3  1797 non-null   float64\n",
      " 60  pixel_7_4  1797 non-null   float64\n",
      " 61  pixel_7_5  1797 non-null   float64\n",
      " 62  pixel_7_6  1797 non-null   float64\n",
      " 63  pixel_7_7  1797 non-null   float64\n",
      " 64  species    1797 non-null   int64  \n",
      "dtypes: float64(64), int64(1)\n",
      "memory usage: 912.7 KB\n"
     ]
    },
    {
     "data": {
      "text/plain": [
       "pixel_0_0    0\n",
       "pixel_0_1    0\n",
       "pixel_0_2    0\n",
       "pixel_0_3    0\n",
       "pixel_0_4    0\n",
       "            ..\n",
       "pixel_7_4    0\n",
       "pixel_7_5    0\n",
       "pixel_7_6    0\n",
       "pixel_7_7    0\n",
       "species      0\n",
       "Length: 65, dtype: int64"
      ]
     },
     "execution_count": 481,
     "metadata": {},
     "output_type": "execute_result"
    }
   ],
   "source": [
    "df.info(verbose=True)\n",
    "df.columns\n",
    "df.index\n",
    "df.head(3)\n",
    "df.loc[10 : 16,'pixel_0_3']\n",
    "df['pixel_0_3'] > 1\n",
    "df[df['pixel_0_3'] > 1]\n",
    "df.isna()\n",
    "df.isna().sum()"
   ]
  },
  {
   "cell_type": "code",
   "execution_count": 482,
   "metadata": {},
   "outputs": [
    {
     "data": {
      "text/plain": [
       "(1797,)"
      ]
     },
     "execution_count": 482,
     "metadata": {},
     "output_type": "execute_result"
    }
   ],
   "source": [
    "y.shape"
   ]
  },
  {
   "cell_type": "code",
   "execution_count": 483,
   "metadata": {},
   "outputs": [
    {
     "name": "stdout",
     "output_type": "stream",
     "text": [
      "資料集一共有10類\n"
     ]
    }
   ],
   "source": [
    "# 計算每個分類的樣本數量\n",
    "unique, counts = np.unique(y, return_counts=True)\n",
    "print(f\"資料集一共有{len(unique)}類\")"
   ]
  },
  {
   "cell_type": "code",
   "execution_count": 484,
   "metadata": {},
   "outputs": [
    {
     "data": {
      "text/plain": [
       "array([0, 1, 2, 3, 4, 5, 6, 7, 8, 9])"
      ]
     },
     "execution_count": 484,
     "metadata": {},
     "output_type": "execute_result"
    }
   ],
   "source": [
    "unique"
   ]
  },
  {
   "cell_type": "code",
   "execution_count": 485,
   "metadata": {},
   "outputs": [
    {
     "data": {
      "text/plain": [
       "array([178, 182, 177, 183, 181, 182, 181, 179, 174, 180])"
      ]
     },
     "execution_count": 485,
     "metadata": {},
     "output_type": "execute_result"
    }
   ],
   "source": [
    "counts"
   ]
  },
  {
   "cell_type": "code",
   "execution_count": 486,
   "metadata": {},
   "outputs": [
    {
     "data": {
      "image/png": "[encoded data removed]",
      "text/plain": [
       "<Figure size 640x480 with 1 Axes>"
      ]
     },
     "metadata": {},
     "output_type": "display_data"
    }
   ],
   "source": [
    "# 獲取數字名稱\n",
    "species_names = ['0', '1', '2', '3', '4', '5', '6', '7', '8', '9']\n",
    "\n",
    "## 須完成部分(將每個類別的數量以長條圖的方式可視化)\n",
    "\n",
    "colors =['blue','green','red','orange','yellow','purple','black','pink','brown','gray']\n",
    "\n",
    "### 繪製長條圖\n",
    "plt.bar(species_names,counts,color=colors)\n",
    "\n",
    "\n",
    "### 添加標題和軸標籤\n",
    "plt.title(\"Mnist Dataset Class Distribution\")\n",
    "\n",
    "### 顯示圖表\n",
    "plt.show()"
   ]
  },
  {
   "cell_type": "code",
   "execution_count": 487,
   "metadata": {},
   "outputs": [
    {
     "name": "stdout",
     "output_type": "stream",
     "text": [
      "species\n",
      "0    174\n",
      "1    174\n",
      "2    174\n",
      "3    174\n",
      "4    174\n",
      "5    174\n",
      "6    174\n",
      "7    174\n",
      "8    174\n",
      "9    174\n",
      "Name: count, dtype: int64\n"
     ]
    },
    {
     "name": "stderr",
     "output_type": "stream",
     "text": [
      "/var/folders/rk/lr0blqfs77z4ycrn1d7px9n80000gn/T/ipykernel_6958/721453381.py:3: DeprecationWarning: DataFrameGroupBy.apply operated on the grouping columns. This behavior is deprecated, and in a future version of pandas the grouping columns will be excluded from the operation. Either pass `include_groups=False` to exclude the groupings or explicitly select the grouping columns after groupby to silence this warning.\n",
      "  df_same = df.groupby('species').apply(lambda x: x.sample(count_min)).reset_index(drop=True)\n"
     ]
    }
   ],
   "source": [
    "count_min=df['species'].value_counts().min()\n",
    "### 依照最小類別的數量平衡每個類別的數量\n",
    "df_same = df.groupby('species').apply(lambda x: x.sample(count_min)).reset_index(drop=True)\n",
    "### 檢查平衡後的資料集類別數量\n",
    "print(df_same['species'].value_counts())"
   ]
  },
  {
   "cell_type": "code",
   "execution_count": 488,
   "metadata": {},
   "outputs": [
    {
     "data": {
      "text/plain": [
       "(1740, 65)"
      ]
     },
     "execution_count": 488,
     "metadata": {},
     "output_type": "execute_result"
    }
   ],
   "source": [
    "df_same.shape"
   ]
  },
  {
   "cell_type": "code",
   "execution_count": 489,
   "metadata": {},
   "outputs": [],
   "source": [
    "y=df_same['species']\n",
    "X = df_same.drop('species', axis=1)\n"
   ]
  },
  {
   "cell_type": "code",
   "execution_count": 490,
   "metadata": {},
   "outputs": [
    {
     "data": {
      "text/plain": [
       "(1740, 64)"
      ]
     },
     "execution_count": 490,
     "metadata": {},
     "output_type": "execute_result"
    }
   ],
   "source": [
    "X.shape"
   ]
  },
  {
   "cell_type": "code",
   "execution_count": 491,
   "metadata": {},
   "outputs": [],
   "source": [
    "unique, counts = np.unique(df_same['species'], return_counts=True)"
   ]
  },
  {
   "cell_type": "code",
   "execution_count": 492,
   "metadata": {},
   "outputs": [
    {
     "data": {
      "text/plain": [
       "array([0, 1, 2, 3, 4, 5, 6, 7, 8, 9])"
      ]
     },
     "execution_count": 492,
     "metadata": {},
     "output_type": "execute_result"
    }
   ],
   "source": [
    "unique"
   ]
  },
  {
   "cell_type": "code",
   "execution_count": 493,
   "metadata": {},
   "outputs": [
    {
     "data": {
      "text/plain": [
       "(10,)"
      ]
     },
     "execution_count": 493,
     "metadata": {},
     "output_type": "execute_result"
    }
   ],
   "source": [
    "counts.shape"
   ]
  },
  {
   "cell_type": "code",
   "execution_count": 494,
   "metadata": {},
   "outputs": [],
   "source": [
    "from sklearn.model_selection import train_test_split # 导入拆分数据集工具\n",
    "\n",
    "### 定義訓練集比例\n",
    "train_ratio = 0.7\n",
    "\n",
    "### 初始化訓練集與測試集\n",
    "X_train, X_test = pd.DataFrame(), pd.DataFrame()\n",
    "y_train, y_test = pd.Series(dtype='int'), pd.Series(dtype='int')\n",
    "\n",
    "### 對每個類別進行分割\n",
    "X = df_same.drop('species', axis=1)  # 特徵數據（所有列，除了 'species'）\n",
    "y = df_same['species']    \n",
    "\n",
    "X_train, X_test, y_train, y_test = train_test_split(X, y, test_size=train_ratio, random_state=0, stratify=y)"
   ]
  },
  {
   "cell_type": "code",
   "execution_count": 495,
   "metadata": {},
   "outputs": [
    {
     "name": "stdout",
     "output_type": "stream",
     "text": [
      "species\n",
      "2    53\n",
      "8    53\n",
      "5    52\n",
      "0    52\n",
      "4    52\n",
      "1    52\n",
      "6    52\n",
      "9    52\n",
      "3    52\n",
      "7    52\n",
      "Name: count, dtype: int64\n"
     ]
    }
   ],
   "source": [
    "print(y_train.value_counts())"
   ]
  },
  {
   "cell_type": "code",
   "execution_count": 496,
   "metadata": {},
   "outputs": [],
   "source": [
    "unique, counts = np.unique(y_train, return_counts=True)"
   ]
  },
  {
   "cell_type": "code",
   "execution_count": 497,
   "metadata": {},
   "outputs": [],
   "source": [
    "species_names = ['0', '1', '2', '3', '4', '5', '6', '7', '8', '9']"
   ]
  },
  {
   "cell_type": "code",
   "execution_count": 498,
   "metadata": {},
   "outputs": [
    {
     "data": {
      "image/png": "[encoded data removed]",
      "text/plain": [
       "<Figure size 640x480 with 1 Axes>"
      ]
     },
     "metadata": {},
     "output_type": "display_data"
    }
   ],
   "source": [
    "plt.bar(species_names,counts,color=colors)\n",
    "plt.show()"
   ]
  },
  {
   "cell_type": "code",
   "execution_count": 499,
   "metadata": {},
   "outputs": [],
   "source": [
    "unique, counts = np.unique(y_test, return_counts=True)"
   ]
  },
  {
   "cell_type": "code",
   "execution_count": 500,
   "metadata": {},
   "outputs": [
    {
     "data": {
      "image/png": "[encoded data removed]",
      "text/plain": [
       "<Figure size 640x480 with 1 Axes>"
      ]
     },
     "metadata": {},
     "output_type": "display_data"
    }
   ],
   "source": [
    "plt.bar(species_names,counts,color=colors)\n",
    "plt.show()"
   ]
  }
 ],
 "metadata": {
  "kernelspec": {
   "display_name": "base",
   "language": "python",
   "name": "python3"
  },
  "language_info": {
   "codemirror_mode": {
    "name": "ipython",
    "version": 3
   },
   "file_extension": ".py",
   "mimetype": "text/x-python",
   "name": "python",
   "nbconvert_exporter": "python",
   "pygments_lexer": "ipython3",
   "version": "3.12.4"
  }
 },
 "nbformat": 4,
 "nbformat_minor": 2
}
